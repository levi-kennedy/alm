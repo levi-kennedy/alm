{
  "nbformat": 4,
  "nbformat_minor": 0,
  "metadata": {
    "colab": {
      "provenance": [],
      "authorship_tag": "ABX9TyPgFdSUkdyKQg7ltYbaMkTT",
      "include_colab_link": true
    },
    "kernelspec": {
      "name": "python3",
      "display_name": "Python 3"
    },
    "language_info": {
      "name": "python"
    }
  },
  "cells": [
    {
      "cell_type": "markdown",
      "metadata": {
        "id": "view-in-github",
        "colab_type": "text"
      },
      "source": [
        "<a href=\"https://colab.research.google.com/github/levi-kennedy/alm/blob/colab/run_alm.ipynb\" target=\"_parent\"><img src=\"https://colab.research.google.com/assets/colab-badge.svg\" alt=\"Open In Colab\"/></a>"
      ]
    },
    {
      "cell_type": "markdown",
      "source": [
        "# Download and install the Mujoco physics simulation library"
      ],
      "metadata": {
        "id": "NNqBwGYmTNA-"
      }
    },
    {
      "cell_type": "code",
      "execution_count": 9,
      "metadata": {
        "id": "L1BOzZ8o3yUO"
      },
      "outputs": [],
      "source": [
        "# Supress the output of this cell\n",
        "%%capture\n",
        "# Remove any previous downloads of Mujoco\n",
        "!rm -rf /root/mjpro*\n",
        "# Remove any previous installations\n",
        "!rm -rf /root/.mujoco/\n",
        "# Get Mujoco version 150\n",
        "!wget https://www.roboti.us/download/mjpro150_linux.zip -P /root\n",
        "# extract the zip files into .mujoco directory\n",
        "!unzip -o /root/mjpro150_linux.zip -d /root/.mujoco\n",
        "# Get the free activation key for Mujoco\n",
        "!wget https://www.roboti.us/file/mjkey.txt -P /root/.mujoco"
      ]
    }
  ]
}